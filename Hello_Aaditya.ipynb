{
  "nbformat": 4,
  "nbformat_minor": 0,
  "metadata": {
    "colab": {
      "provenance": [],
      "authorship_tag": "ABX9TyOeEwIrWZLIBRFNkKqQFLVg",
      "include_colab_link": true
    },
    "kernelspec": {
      "name": "python3",
      "display_name": "Python 3"
    },
    "language_info": {
      "name": "python"
    }
  },
  "cells": [
    {
      "cell_type": "markdown",
      "metadata": {
        "id": "view-in-github",
        "colab_type": "text"
      },
      "source": [
        "<a href=\"https://colab.research.google.com/github/gpaldtya2002/Hello-Aaditya/blob/main/Hello_Aaditya.ipynb\" target=\"_parent\"><img src=\"https://colab.research.google.com/assets/colab-badge.svg\" alt=\"Open In Colab\"/></a>"
      ]
    },
    {
      "cell_type": "code",
      "execution_count": null,
      "metadata": {
        "colab": {
          "base_uri": "https://localhost:8080/"
        },
        "id": "DZFNXzzrxxKA",
        "outputId": "95a1be22-11f8-4893-f9a4-8dfbe5296437"
      },
      "outputs": [
        {
          "output_type": "stream",
          "name": "stdout",
          "text": [
            "Hello, I am Aaditya. This is my first-code on GitHub ever. I like to code. \n",
            "Voila!\n"
          ]
        }
      ],
      "source": [
        "print(\"Hello, I am Aaditya. This is my first-code on GitHub ever. I like to code. \\nVoila!\")"
      ]
    }
  ]
}