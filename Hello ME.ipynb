print("Hello, I am Aaditya. This is my first-code on GitHub ever." \nVoila")
